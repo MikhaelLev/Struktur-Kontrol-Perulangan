{
  "nbformat": 4,
  "nbformat_minor": 0,
  "metadata": {
    "colab": {
      "provenance": []
    },
    "kernelspec": {
      "name": "python3",
      "display_name": "Python 3"
    },
    "language_info": {
      "name": "python"
    }
  },
  "cells": [
    {
      "cell_type": "markdown",
      "source": [
        "Latihan 5.1"
      ],
      "metadata": {
        "id": "iOTqKttjErgd"
      }
    },
    {
      "cell_type": "code",
      "source": [
        "def perkalian(a, b):\n",
        "    hasil = 0\n",
        "    for i in range(b):\n",
        "        hasil += a\n",
        "    return hasil\n",
        "\n",
        "def main():\n",
        "    angka1 = int(input(\"Masukkan angka pertama : \"))\n",
        "    angka2 = int(input(\"Masukkan angka kedua : \"))\n",
        "    hasil = perkalian(angka1, angka2)\n",
        "\n",
        "    print(f\"{angka1}x{angka2} = \", end=\"\")\n",
        "    for i in range(angka1):\n",
        "        print(angka2, end=\"\")\n",
        "        if i != angka1 -1:\n",
        "            print(' + ', end=\"\")\n",
        "        else:\n",
        "            print(f\" = {hasil}\")\n",
        "\n",
        "if __name__ == \"__main__\":\n",
        "    main()"
      ],
      "metadata": {
        "colab": {
          "base_uri": "https://localhost:8080/"
        },
        "id": "XBv1GWTgElZh",
        "outputId": "a63520f5-1055-4f48-dec3-c3d5fb996963"
      },
      "execution_count": null,
      "outputs": [
        {
          "output_type": "stream",
          "name": "stdout",
          "text": [
            "Masukkan angka pertama : 5\n",
            "Masukkan angka kedua : 10\n",
            "5x10 = 10 + 10 + 10 + 10 + 10 = 50\n"
          ]
        }
      ]
    },
    {
      "cell_type": "markdown",
      "source": [
        "Latihan 5.2"
      ],
      "metadata": {
        "id": "l1s5g7PoFD_Z"
      }
    },
    {
      "cell_type": "code",
      "execution_count": 1,
      "metadata": {
        "colab": {
          "base_uri": "https://localhost:8080/",
          "height": 208
        },
        "id": "8vn4jc0nEhwy",
        "outputId": "0d6f63d1-155e-4688-ad79-3e60bdfe9c95"
      },
      "outputs": [
        {
          "output_type": "stream",
          "name": "stdout",
          "text": [
            "\n",
            "Test case batas bawah 10, batas atas 30 : \n",
            "11, 13, 15, 17, 19, 21, 23, 25, 27, 29, \n",
            "\n",
            "Test case batas bawah 97, batas atas 82 : \n",
            "97, 95, 93, 91, 89, 87, 85, 83, "
          ]
        },
        {
          "output_type": "execute_result",
          "data": {
            "text/plain": [
              "<function __main__.ganjil(bawah, atas)>"
            ],
            "text/html": [
              "<div style=\"max-width:800px; border: 1px solid var(--colab-border-color);\"><style>\n",
              "      pre.function-repr-contents {\n",
              "        overflow-x: auto;\n",
              "        padding: 8px 12px;\n",
              "        max-height: 500px;\n",
              "      }\n",
              "\n",
              "      pre.function-repr-contents.function-repr-contents-collapsed {\n",
              "        cursor: pointer;\n",
              "        max-height: 100px;\n",
              "      }\n",
              "    </style>\n",
              "    <pre style=\"white-space: initial; background:\n",
              "         var(--colab-secondary-surface-color); padding: 8px 12px;\n",
              "         border-bottom: 1px solid var(--colab-border-color);\"><b>ganjil</b><br/>def ganjil(bawah, atas)</pre><pre class=\"function-repr-contents function-repr-contents-collapsed\" style=\"\"><a class=\"filepath\" style=\"display:none\" href=\"#\">/content/&lt;ipython-input-1-be97d97703a6&gt;</a>&lt;no docstring&gt;</pre></div>"
            ]
          },
          "metadata": {},
          "execution_count": 1
        }
      ],
      "source": [
        "def ganjil(bawah, atas):\n",
        "    if bawah < atas:\n",
        "        for i in range(bawah, atas+1):\n",
        "            if i % 2 != 0:\n",
        "                print(i, end=\", \")\n",
        "    else:\n",
        "        for i in range(bawah, atas-1, -1):\n",
        "            if i % 2 != 0:\n",
        "                print(i, end=\", \")\n",
        "    return ganjil\n",
        "\n",
        "print(\"\\nTest case batas bawah 10, batas atas 30 : \")\n",
        "ganjil(10,30)\n",
        "print(\"\\n\\nTest case batas bawah 97, batas atas 82 : \")\n",
        "ganjil(97,82)"
      ]
    },
    {
      "cell_type": "markdown",
      "source": [
        "Latihan 5.3"
      ],
      "metadata": {
        "id": "16ejvNO7I-Z9"
      }
    },
    {
      "cell_type": "code",
      "source": [
        "def indeks_semester(jumlah_matkul):\n",
        "    total_sks = jumlah_matkul * 3\n",
        "    jumlah_nilai = 0\n",
        "\n",
        "    for i in range(1, jumlah_matkul + 1):\n",
        "        nilai = input(f\"nilai MK {i}: \").upper()\n",
        "        if nilai == 'A':\n",
        "            jumlah_nilai += 4 * 3\n",
        "        elif nilai == 'B':\n",
        "            jumlah_nilai += 3 * 3\n",
        "        elif nilai == 'C':\n",
        "            jumlah_nilai += 2 * 3\n",
        "        elif nilai == 'D':\n",
        "            jumlah_nilai += 1 * 3\n",
        "        else:\n",
        "            print(\"INPUT ANDA SALAH! Masukkuan indeks yang tepat! (A, B, C, D) : \")\n",
        "    ips = jumlah_nilai / total_sks\n",
        "    return ips\n",
        "\n",
        "\n",
        "jumlah_matkul = int(input(\"Berapa jumlah mata kuliah? \"))\n",
        "ips = indeks_semester(jumlah_matkul)\n",
        "print(f\"Nilai IPS anda semester ini {ips:.2f}\")"
      ],
      "metadata": {
        "colab": {
          "base_uri": "https://localhost:8080/"
        },
        "id": "tz5wFMXZJLcz",
        "outputId": "38755ceb-8d11-419c-f91b-9a90168e9619"
      },
      "execution_count": null,
      "outputs": [
        {
          "output_type": "stream",
          "name": "stdout",
          "text": [
            "Berapa jumlah mata kuliah? 6\n",
            "nilai MK 1: A\n",
            "nilai MK 2: B\n",
            "nilai MK 3: C\n",
            "nilai MK 4: A\n",
            "nilai MK 5: D\n",
            "nilai MK 6: B\n",
            "Nilai IPS anda semester ini 2.83\n"
          ]
        }
      ]
    }
  ]
}